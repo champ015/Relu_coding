{
 "cells": [
  {
   "cell_type": "code",
   "execution_count": 2,
   "id": "5b9447fd",
   "metadata": {},
   "outputs": [
    {
     "name": "stdout",
     "output_type": "stream",
     "text": [
      "Batch 1 completed in 121.3361234664917 seconds\n",
      "Batch 2 completed in 100.11087441444397 seconds\n",
      "Batch 3 completed in 89.92947149276733 seconds\n",
      "Batch 4 completed in 121.99704146385193 seconds\n",
      "Batch 5 completed in 94.60886859893799 seconds\n",
      "Batch 6 completed in 135.46539759635925 seconds\n",
      "Batch 7 completed in 133.49252843856812 seconds\n",
      "Batch 8 completed in 99.02609705924988 seconds\n",
      "Batch 9 completed in 101.42978501319885 seconds\n",
      "Batch 10 completed in 114.86932110786438 seconds\n",
      "Task completed.\n"
     ]
    }
   ],
   "source": [
    "import csv\n",
    "import time\n",
    "import json\n",
    "from bs4 import BeautifulSoup\n",
    "from selenium import webdriver\n",
    "import mysql.connector\n",
    "from selenium.common.exceptions import WebDriverException\n",
    "from mysql.connector import Error\n",
    "driver = webdriver.Chrome()\n",
    "db_config = {\n",
    "    \"host\": \"localhost\",\n",
    "    \"user\": \"root\",\n",
    "    \"password\": \"Champ@15\",\n",
    "    \"database\": \"shiva\"\n",
    "}\n",
    "batch_size = 100\n",
    "max_retries = 3\n",
    "with open('Amazon.csv', 'r') as csv_file:\n",
    "    csv_reader = csv.DictReader(csv_file)\n",
    "    data = []\n",
    "    batch_start_time = time.time()\n",
    "    batch_count = 0\n",
    "    try:\n",
    "        conn = mysql.connector.connect(**db_config)\n",
    "        cursor = conn.cursor()\n",
    "        create_table_query = \"\"\"\n",
    "        CREATE TABLE IF NOT EXISTS scraped_data (\n",
    "            id INT AUTO_INCREMENT PRIMARY KEY,\n",
    "            product_title VARCHAR(255),\n",
    "            product_image_url VARCHAR(255),\n",
    "            price VARCHAR(50),\n",
    "            product_details TEXT\n",
    "        )\n",
    "        \"\"\"\n",
    "        cursor.execute(create_table_query)\n",
    "        conn.commit()\n",
    "        for row in csv_reader:\n",
    "            url = f\"https://www.amazon.{row['country']}/dp/{row['Asin']}\"\n",
    "            retries = 0\n",
    "            while retries < max_retries:\n",
    "                try:\n",
    "                    driver.get(url)\n",
    "                    if \"404 - Not Found\" in driver.page_source:\n",
    "                        print(f\"{url} not available\")\n",
    "                        break  \n",
    "                    soup = BeautifulSoup(driver.page_source, 'html.parser')\n",
    "                    product_element = soup.find(\"span\", id=\"productTitle\")\n",
    "                    image_element = soup.find(\"img\", {\"data-old-hires\": True})\n",
    "                    price_element = soup.find(\"span\", id=\"priceblock_ourprice\")\n",
    "                    product_details= soup.find(\"div\", {\"id\": \"productDescription\"})\n",
    "\n",
    "                    if product_element:\n",
    "                        product_title = product_element.get_text().strip()\n",
    "                    else:\n",
    "                        product_title = \"N/A\"\n",
    "\n",
    "                    if image_element:\n",
    "                        image_url = image_element.get(\"data-old-hires\")\n",
    "                    else:\n",
    "                        image_url = \"N/A\"\n",
    "\n",
    "                    if price_element:\n",
    "                        price = price_element.get_text().strip()\n",
    "                    else:\n",
    "                        price = \"N/A\"\n",
    "\n",
    "                    if product_details:\n",
    "                        product_details = product_details.get_text().strip()\n",
    "                    else:\n",
    "                        product_details = \"N/A\"\n",
    "\n",
    "                    product_data = {\n",
    "                        \"Product Title\": product_title,\n",
    "                        \"Product Image URL\": image_url,\n",
    "                        \"Price\": price,\n",
    "                        \"Product Details\": product_details\n",
    "                    }\n",
    "                    data.append(product_data)\n",
    "                    insert_query = \"\"\"\n",
    "                    INSERT INTO scraped_data (product_title, product_image_url, price, product_details)\n",
    "                    VALUES (%s, %s, %s, %s)\n",
    "                    \"\"\"\n",
    "                    cursor.execute(insert_query, (product_title, image_url, price, product_details))\n",
    "                    conn.commit()\n",
    "\n",
    "                    batch_count += 1\n",
    "                    if batch_count % batch_size == 0:\n",
    "                        batch_end_time = time.time()\n",
    "                        batch_duration = batch_end_time - batch_start_time\n",
    "                        print(f\"Batch {batch_count // batch_size} completed in {batch_duration} seconds\")\n",
    "                        batch_start_time = time.time()\n",
    "                    time.sleep(0)\n",
    "                    break\n",
    "                except WebDriverException as e:\n",
    "                    print(f\"WebDriverException occurred: {str(e)}\")\n",
    "                    retries += 1\n",
    "                    print(f\"Retrying... Attempt {retries}/{max_retries}\")\n",
    "    except Error as db_error:\n",
    "        print(f\"Database connection error: {str(db_error)}\")\n",
    "    finally:\n",
    "        if conn.is_connected():\n",
    "            cursor.close()\n",
    "            conn.close()\n",
    "driver.quit()\n",
    "\n",
    "with open('output.json', 'w') as json_file:\n",
    "    json.dump(data, json_file, indent=4)\n",
    "print(\"Task completed.\")"
   ]
  },
  {
   "cell_type": "code",
   "execution_count": 3,
   "id": "773b6179",
   "metadata": {},
   "outputs": [
    {
     "data": {
      "text/plain": [
       "1107"
      ]
     },
     "execution_count": 3,
     "metadata": {},
     "output_type": "execute_result"
    }
   ],
   "source": [
    "121+100+89+121+94+135+133+99+101+114"
   ]
  },
  {
   "cell_type": "code",
   "execution_count": null,
   "id": "e92eacfd",
   "metadata": {},
   "outputs": [],
   "source": []
  }
 ],
 "metadata": {
  "kernelspec": {
   "display_name": "Python 3 (ipykernel)",
   "language": "python",
   "name": "python3"
  },
  "language_info": {
   "codemirror_mode": {
    "name": "ipython",
    "version": 3
   },
   "file_extension": ".py",
   "mimetype": "text/x-python",
   "name": "python",
   "nbconvert_exporter": "python",
   "pygments_lexer": "ipython3",
   "version": "3.10.1"
  }
 },
 "nbformat": 4,
 "nbformat_minor": 5
}
